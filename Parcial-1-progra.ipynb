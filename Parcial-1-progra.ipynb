{
  "nbformat": 4,
  "nbformat_minor": 0,
  "metadata": {
    "colab": {
      "name": "Untitled3.ipynb",
      "provenance": [],
      "collapsed_sections": [],
      "authorship_tag": "ABX9TyO20U9gkM0IdtPu0NnUf6+J",
      "include_colab_link": true
    },
    "kernelspec": {
      "name": "python3",
      "display_name": "Python 3"
    },
    "language_info": {
      "name": "python"
    }
  },
  "cells": [
    {
      "cell_type": "markdown",
      "metadata": {
        "id": "view-in-github",
        "colab_type": "text"
      },
      "source": [
        "<a href=\"https://colab.research.google.com/github/Scarlethernan28/Hernandez/blob/master/Parcial-1-progra.ipynb\" target=\"_parent\"><img src=\"https://colab.research.google.com/assets/colab-badge.svg\" alt=\"Open In Colab\"/></a>"
      ]
    },
    {
      "cell_type": "code",
      "source": [
        "1.\t#Desarrolle un algoritmo en Python que calcule el IMPUESTO A LAS ACTIVIDADES ECONOMICAS de acuerdo con la siguiente tabla. El monto de la actividad económica debe ser introducido por el usuario. (30%)\n",
        "\n",
        "#No.DESDE\tHASTA\tPRECIO\tADICIONAL\n",
        "#1\t0.01\t500\t1.5\t0\n",
        "#2\t500.01\t1000\t1.5\t3\n",
        "#3\t1000.01\t2000\t3\t3\n",
        "#4\t2000.01\t3000\t6\t3\n",
        "#5\t3000.01\t6000\t9\t2\n",
        "#6\t8000.01\t18000\t15\t2\n",
        "#7\t18000.01\t30000\t39\t2\n",
        "#8\t30000.01\t60000\t63\t1\n",
        "#9\t60000.01\t100000\t93\t0.8\n",
        "#10\t100000.01\t200000\t125\t0.7\n",
        "#11\t200000.01\t300000\t195\t0.6\n",
        "#12\t300000.01\t400000\t255\t0.45\n",
        "#13\t400000.01\t500000\t300\t0.4\n",
        "#14\t500000.01\t1000000\t340\t0.30\n",
        "#15\t1000000.01\t99999999\t490\t0.18\n",
        "\n",
        "#Eje:(Si un negocio tiene una actividad económica de $1,875.79) su valor a pagar es: $5.63\n",
        "\n",
        "Desarrollo: 1875.79 – 1000.01 = 875.78 / 1000 * 3 + 3 = $5.63\n",
        "\n",
        "#Eje 2: Actividad económica $20,000\n",
        "Desarrollo: 20000 – 18000.01 = 1999.99 / 1000 * 2 + 39 = 42.9999 = $43\n"
      ],
      "metadata": {
        "colab": {
          "base_uri": "https://localhost:8080/",
          "height": 135
        },
        "id": "L-ipBmob3WB1",
        "outputId": "b55d487b-f828-4ad4-a88a-e51134f70936"
      },
      "execution_count": 9,
      "outputs": [
        {
          "output_type": "error",
          "ename": "SyntaxError",
          "evalue": "ignored",
          "traceback": [
            "\u001b[0;36m  File \u001b[0;32m\"<ipython-input-9-5539ea98238e>\"\u001b[0;36m, line \u001b[0;32m22\u001b[0m\n\u001b[0;31m    Desarrollo: 1875.79 – 1000.01 = 875.78 / 1000 * 3 + 3 = $5.63\u001b[0m\n\u001b[0m                        ^\u001b[0m\n\u001b[0;31mSyntaxError\u001b[0m\u001b[0;31m:\u001b[0m invalid character in identifier\n"
          ]
        }
      ]
    },
    {
      "cell_type": "code",
      "source": [],
      "metadata": {
        "id": "GcFZqZZ_3jdC"
      },
      "execution_count": null,
      "outputs": []
    },
    {
      "cell_type": "code",
      "source": [],
      "metadata": {
        "id": "KZJjG84t3rla"
      },
      "execution_count": null,
      "outputs": []
    }
  ]
}