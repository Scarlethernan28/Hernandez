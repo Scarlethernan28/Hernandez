{
  "nbformat": 4,
  "nbformat_minor": 0,
  "metadata": {
    "colab": {
      "name": "Tarea-progra",
      "provenance": [],
      "include_colab_link": true
    },
    "kernelspec": {
      "name": "python3",
      "display_name": "Python 3"
    },
    "language_info": {
      "name": "python"
    }
  },
  "cells": [
    {
      "cell_type": "markdown",
      "metadata": {
        "id": "view-in-github",
        "colab_type": "text"
      },
      "source": [
        "<a href=\"https://colab.research.google.com/github/Scarlethernan28/Hernandez/blob/master/Tarea_progra.ipynb\" target=\"_parent\"><img src=\"https://colab.research.google.com/assets/colab-badge.svg\" alt=\"Open In Colab\"/></a>"
      ]
    },
    {
      "cell_type": "code",
      "execution_count": null,
      "metadata": {
        "id": "cEBtyriUwPvt"
      },
      "outputs": [],
      "source": [
        "#Ejercicios Practicas en Python "
      ]
    },
    {
      "cell_type": "code",
      "source": [
        "\"Calcular el valor a pagar según el número de metros consumidos de agua potable\"(Ver tabla en la siguiente diapositiva).(20%)"
      ],
      "metadata": {
        "id": "Qir8A6DTaSUC",
        "outputId": "34c7162e-cb17-4d74-cee1-212eeeb22067",
        "colab": {
          "base_uri": "https://localhost:8080/",
          "height": 135
        }
      },
      "execution_count": 6,
      "outputs": [
        {
          "output_type": "error",
          "ename": "SyntaxError",
          "evalue": "ignored",
          "traceback": [
            "\u001b[0;36m  File \u001b[0;32m\"<ipython-input-6-e06864aebcaa>\"\u001b[0;36m, line \u001b[0;32m1\u001b[0m\n\u001b[0;31m    \"Calcular el valor a pagar según el número de metros consumidos de agua potable\"(Ver tabla en la siguiente diapositiva).(20%)\u001b[0m\n\u001b[0m                                                                                             ^\u001b[0m\n\u001b[0;31mSyntaxError\u001b[0m\u001b[0;31m:\u001b[0m invalid syntax\n"
          ]
        }
      ]
    },
    {
      "cell_type": "code",
      "source": [
        "precio = 10"
      ],
      "metadata": {
        "id": "4ojnXzmvaeaI"
      },
      "execution_count": 3,
      "outputs": []
    },
    {
      "cell_type": "code",
      "source": [
        "metros = int(input(\"Digite la cantidad de metros consmidos: \"))\n",
        "if(metros<18):\n",
        "  print(\"Total por pagar: \", precio)\n",
        "elif(metros<28):\n",
        "    print(\"Total por pagar: \", 3.15 + precio)\n",
        "elif(metros<40):\n",
        "  print(\"Total por pagar: \", 11 + precio)\n",
        "else:\n",
        "  print(\"Máximo de metros a consumir es 120\")"
      ],
      "metadata": {
        "id": "3WPHwZZuaphg",
        "outputId": "ec636ece-6029-4d7c-e8fd-9f05785154c5",
        "colab": {
          "base_uri": "https://localhost:8080/"
        }
      },
      "execution_count": 7,
      "outputs": [
        {
          "output_type": "stream",
          "name": "stdout",
          "text": [
            "Digite la cantidad de metros consmidos: 15\n",
            "Total por pagar:  10\n"
          ]
        }
      ]
    },
    {
      "cell_type": "code",
      "source": [
        "Conversoreses: (40%) (10 ítems como mínimo por cada uno) • Monedas (Resuelto en clases) • Longitud • Masa • Almacenamiento • Tiempo • Volumen • Área • Meses •Años •Dias"
      ],
      "metadata": {
        "id": "lmEEmqnhwu63"
      },
      "execution_count": null,
      "outputs": []
    },
    {
      "cell_type": "code",
      "source": [
        "\n",
        "#Conversor de Divisas... Dolares, Quetzalez, Lempiras, Cordobas, Pesos CR, Euros, Colon SV, Yenes, Soles Peruanos\n",
        "divisas = [\"Seleccione una divisa\", \"Dolares\", \n",
        "           \"Quetzalez\", \"Lempiras\", \"Cordobas\", \n",
        "           \"Pesos CR\", \"Euros\", \"Colon SV\", \n",
        "           \"Yenes\", \"Soles Peruanos\"\n",
        "]\n",
        "valores = [0,1, 7.71, 24.51, 35.77, 664.64, 0.98, 8.75, 134.13, 3.84]"
      ],
      "metadata": {
        "id": "w9gZAJAa0Wko"
      },
      "execution_count": null,
      "outputs": []
    },
    {
      "cell_type": "code",
      "source": [
        "def convertir(de, a, cantidad):\n",
        "  return valores[a] / valores[de] * cantidad"
      ],
      "metadata": {
        "id": "bmNli2sm0-5n"
      },
      "execution_count": null,
      "outputs": []
    },
    {
      "cell_type": "code",
      "source": [
        "print(\"*** MENU ***\")\n",
        "print(\"SELECCIONE UNA DIVISA\")\n",
        "print(\"1. Dolares\")\n",
        "print(\"2. Quetzalez\")\n",
        "print(\"3. Lempiras\")\n",
        "print(\"4. Cordobas\")\n",
        "print(\"5. Pesos CR\")\n",
        "print(\"6. Euros\")\n",
        "print(\"7. Colon SV\")\n",
        "print(\"8. Yenes\")\n",
        "print(\"9. Soles Peruanos\")"
      ],
      "metadata": {
        "colab": {
          "base_uri": "https://localhost:8080/"
        },
        "id": "rLOTWMld1EQ4",
        "outputId": "6e394074-1d58-440d-a88d-c8efed83c0dc"
      },
      "execution_count": null,
      "outputs": [
        {
          "output_type": "stream",
          "name": "stdout",
          "text": [
            "*** MENU ***\n",
            "SELECCIONE UNA DIVISA\n",
            "1. Dolares\n",
            "2. Quetzalez\n",
            "3. Lempiras\n",
            "4. Cordobas\n",
            "5. Pesos CR\n",
            "6. Euros\n",
            "7. Colon SV\n",
            "8. Yenes\n",
            "9. Soles Peruanos\n"
          ]
        }
      ]
    },
    {
      "cell_type": "code",
      "source": [
        "de = int(input(\"DE: \"))\n",
        "a = int(input(\"A: \"))\n",
        "cantidad = float(input(\"Cantidad: \"))\n",
        "print( divisas[de],  \" a \", divisas[a], \" es: \", convertir(de, a, cantidad) )"
      ],
      "metadata": {
        "id": "xz0ouJtPGN5g",
        "outputId": "e74263c6-0f1a-49ae-c8b9-5d3ad908bac9",
        "colab": {
          "base_uri": "https://localhost:8080/"
        }
      },
      "execution_count": null,
      "outputs": [
        {
          "output_type": "stream",
          "name": "stdout",
          "text": [
            "DE: 5\n",
            "A: 2\n",
            "Cantidad: 10\n",
            "tebibit  a  Mebibit  es:  1.1534025374855827e-05\n"
          ]
        }
      ]
    },
    {
      "cell_type": "code",
      "source": [
        "#Longitud"
      ],
      "metadata": {
        "id": "kP5QsVgfQ250"
      },
      "execution_count": null,
      "outputs": []
    },
    {
      "cell_type": "code",
      "source": [
        "divisas = [\"Seleccione una divisa\", \"metro\", \n",
        "           \"kilometro\", \"centimetros\", \"milimetro\", \n",
        "           \"yarda\", \"pie\", \"pulgadas\", \n",
        "           \"milla\", \"Milla nautica\", 'nanometro',\n",
        "]\n",
        "valores = [0,1, 0.001, 100, 1000, 1.09361, 3.28084, 39.3701, 0.000621371,0.000539957,1e+9 ]"
      ],
      "metadata": {
        "id": "rADc_KvlQyvy"
      },
      "execution_count": null,
      "outputs": []
    },
    {
      "cell_type": "code",
      "source": [
        "def convertir(de, a, cantidad):\n",
        "  return valores [de] / valores [a] * cantidad"
      ],
      "metadata": {
        "id": "jz6thxB5REH9"
      },
      "execution_count": null,
      "outputs": []
    },
    {
      "cell_type": "code",
      "source": [
        "print(\"*** MENU ***\")\n",
        "print(\"SELECCIONE UNA DIVISA\")\n",
        "print(\"1. metro\")\n",
        "print(\"2. Kilometro\")\n",
        "print(\"3. centimetros\")\n",
        "print(\"4. Milimetro\")\n",
        "print(\"5. Yarda\")\n",
        "print(\"6. Pie\")\n",
        "print(\"7. pulgada\")\n",
        "print(\"8. Milla\")\n",
        "print(\"9. Milla nautica\")"
      ],
      "metadata": {
        "id": "-6aZbdtVRJq5",
        "outputId": "28750ec9-91de-46d7-caf1-8e8ff92bcc5e",
        "colab": {
          "base_uri": "https://localhost:8080/"
        }
      },
      "execution_count": null,
      "outputs": [
        {
          "output_type": "stream",
          "name": "stdout",
          "text": [
            "*** MENU ***\n",
            "SELECCIONE UNA DIVISA\n",
            "1. metro\n",
            "2. Kilometro\n",
            "3. centimetros\n",
            "4. Milimetro\n",
            "5. Yarda\n",
            "6. Pie\n",
            "7. pulgada\n",
            "8. Milla\n",
            "9. Milla nautica\n"
          ]
        }
      ]
    },
    {
      "cell_type": "code",
      "source": [
        "a = int(input(\"DE: \"))\n",
        "de = int(input(\"A: \"))\n",
        "cantidad = float(input(\"Cantidad: \"))\n",
        "\n",
        "print( divisas[a],  \" a \", divisas[de], \" es: \", convertir(de, a, cantidad) )"
      ],
      "metadata": {
        "id": "Wxu6FPzgRowg",
        "outputId": "c8eba35c-69c2-4a5f-99f1-7048d53ac35e",
        "colab": {
          "base_uri": "https://localhost:8080/"
        }
      },
      "execution_count": null,
      "outputs": [
        {
          "output_type": "stream",
          "name": "stdout",
          "text": [
            "DE: 1\n",
            "A: 2\n",
            "Cantidad: 12\n",
            "metro  a  kilometro  es:  0.012\n"
          ]
        }
      ]
    },
    {
      "cell_type": "code",
      "source": [
        "#Masa"
      ],
      "metadata": {
        "id": "oDeSD5zvRvwn"
      },
      "execution_count": null,
      "outputs": []
    },
    {
      "cell_type": "code",
      "source": [
        "divisas = [\"Seleccione una divisa\", \"Tonelada\", \n",
        "           \"Kilogramo\", \"Gramo\", \"Miligramo\", \n",
        "           \"Microgramo\", \"Tonelada larga\", \"Tonela corta\", \n",
        "           \"Libra\", 'Onza',\n",
        "\n",
        "]\n",
        "valores = [0,1, 1000, 1e+6, 1e+9, 1e+12, 0.984207,  157.473, 2204.62, 35274 ]"
      ],
      "metadata": {
        "id": "o7tEunpVR4ze"
      },
      "execution_count": null,
      "outputs": []
    },
    {
      "cell_type": "code",
      "source": [
        "def convertir(de, a, cantidad):\n",
        "  return valores [de] / valores [a] * cantidad"
      ],
      "metadata": {
        "id": "_5mN-_uLSKbK"
      },
      "execution_count": null,
      "outputs": []
    },
    {
      "cell_type": "code",
      "source": [
        "print(\"*** MENU ***\")\n",
        "print(\"SELECCIONE UNA DIVISA\")\n",
        "print(\"1. Tonelada\")\n",
        "print(\"2. Kilogramo\")\n",
        "print(\"3. Gramo\")\n",
        "print(\"4. Miligramo\")\n",
        "print(\"5. Micrograma\")\n",
        "print(\"6. Tonelada larga\")\n",
        "print(\"7. Tonelada corta\")\n",
        "print(\"9. Libra\")\n",
        "print(\"10. Onza\")"
      ],
      "metadata": {
        "id": "9fZVPMrwSOt_",
        "outputId": "997c2154-6256-4b6d-ba62-13d95b86388d",
        "colab": {
          "base_uri": "https://localhost:8080/"
        }
      },
      "execution_count": null,
      "outputs": [
        {
          "output_type": "stream",
          "name": "stdout",
          "text": [
            "*** MENU ***\n",
            "SELECCIONE UNA DIVISA\n",
            "1. Tonelada\n",
            "2. Kilogramo\n",
            "3. Gramo\n",
            "4. Miligramo\n",
            "5. Micrograma\n",
            "6. Tonelada larga\n",
            "7. Tonelada corta\n",
            "9. Libra\n",
            "10. Onza\n"
          ]
        }
      ]
    },
    {
      "cell_type": "code",
      "source": [
        "a = int(input(\"DE: \"))\n",
        "de = int(input(\"A: \"))\n",
        "cantidad = float(input(\"Cantidad: \"))\n",
        "print( divisas[a],  \" a \", divisas[de], \" es: \", convertir(de, a, cantidad) )"
      ],
      "metadata": {
        "id": "Rg16MAXtSebH",
        "outputId": "c0b93651-49ef-4eee-97a1-a482f8f67467",
        "colab": {
          "base_uri": "https://localhost:8080/"
        }
      },
      "execution_count": null,
      "outputs": [
        {
          "output_type": "stream",
          "name": "stdout",
          "text": [
            "DE: 2\n",
            "A: 4\n",
            "Cantidad: 10\n",
            "Kilogramo  a  Miligramo  es:  10000000.0\n"
          ]
        }
      ]
    },
    {
      "cell_type": "code",
      "source": [
        "#Almacenamiento"
      ],
      "metadata": {
        "id": "PJUFzbeQSpC2"
      },
      "execution_count": null,
      "outputs": []
    },
    {
      "cell_type": "code",
      "source": [
        "divisas = [\"Seleccione una divisa\", \" Terabit\", \n",
        "           \"Mebibit\", \"Gibibit\", \"Gigabit\", \n",
        "           \"tebibit\", \"Petabyte\", \"Mebibyte\", \n",
        "           \"Megabyte\", \"Gigabyte\", 'Terabyte',\n",
        "]\n",
        "valores = [0,1, 953700, 931.3, 1000, 1.1, 8000, 119200, 125000,125,0.125 ]"
      ],
      "metadata": {
        "id": "l1Nu54uXS7C8"
      },
      "execution_count": null,
      "outputs": []
    },
    {
      "cell_type": "code",
      "source": [
        "def convertir(de, a, cantidad):\n",
        "  return valores [de] / valores [a] * cantidad"
      ],
      "metadata": {
        "id": "40CdOJY7TJMn"
      },
      "execution_count": null,
      "outputs": []
    },
    {
      "cell_type": "code",
      "source": [
        "print(\"*** MENU ***\")\n",
        "print(\"SELECCIONE UNA DIVISA\")\n",
        "print(\"1. Terabit\")\n",
        "print(\"2. Mebibit\")\n",
        "print(\"3. Gibibit\")\n",
        "print(\"4. Gigabit\")\n",
        "print(\"5. Tebibit\")\n",
        "print(\"6. Petabyte\")\n",
        "print(\"7. Mebibyte\")\n",
        "print(\"8. Megabyte\")\n",
        "print(\"9. Gygabyte\")\n",
        "print(\"10.Terabyte\")"
      ],
      "metadata": {
        "id": "rsedHEbrTPqX",
        "outputId": "3a54c008-e309-49cf-e4da-4aa0e7e9747c",
        "colab": {
          "base_uri": "https://localhost:8080/"
        }
      },
      "execution_count": null,
      "outputs": [
        {
          "output_type": "stream",
          "name": "stdout",
          "text": [
            "*** MENU ***\n",
            "SELECCIONE UNA DIVISA\n",
            "1. Terabit\n",
            "2. Mebibit\n",
            "3. Gibibit\n",
            "4. Gigabit\n",
            "5. Tebibit\n",
            "6. Petabyte\n",
            "7. Mebibyte\n",
            "8. Megabyte\n",
            "9. Gygabyte\n",
            "10.Terabyte\n"
          ]
        }
      ]
    },
    {
      "cell_type": "code",
      "source": [
        "a = int(input(\"DE: \"))\n",
        "de = int(input(\"A: \"))\n",
        "cantidad = float(input(\"Cantidad: \"))\n",
        "\n",
        "print( divisas[a],  \" a \", divisas[de], \" es: \", convertir(de, a, cantidad) )"
      ],
      "metadata": {
        "id": "xRWJD2OdTUUd",
        "outputId": "f84cce19-8531-4fcc-88de-9be53e848336",
        "colab": {
          "base_uri": "https://localhost:8080/"
        }
      },
      "execution_count": null,
      "outputs": [
        {
          "output_type": "stream",
          "name": "stdout",
          "text": [
            "DE: 4\n",
            "A: 6\n",
            "Cantidad: 10\n",
            "Gigabit  a  Petabyte  es:  80.0\n"
          ]
        }
      ]
    },
    {
      "cell_type": "code",
      "source": [
        "unidadesC = [\n",
        "    [1.00,8.75,7.77, 24.03,34.8,611.10,0.82,19.93,105.00,5.39],                                               #monedas //0\n",
        "    [1.0, 100.0,39.37,3.28,0.001,1.093613,0.000621,0.836,0.0001,1.000],                                       #longitud //1\n",
        "    [1.0,16.00,0.453592,4.535924,453.5924,45.35924,4535.924,45359.24,453592.4,0.0005],                        #masa //2\n",
        "    [1.0,0.68,7.629395,8.0,976.5625,0.953674,0.008,0.001,0.000008,0.000001],                                  #almacenamiento //3\n",
        "    [1.0,60.0,3600.0,3600000.0,3600000000.0,0.041667,0.005952,0.000114,1.14155e-5,1.14155e-6],                #tiempo //4\n",
        "    [1.0,33.8,274.15],                                                                                        #temperatura //5\n",
        "    [1.0,0.333333,0.166667,0.0200833,0.005208,0.001302,0.004929,4.928922,4.928922,0.000005],                  #volumen //6\n",
        "    [1.0,0.111111,0.000000035870064,144.0,0.00000009290304,0.000009,0.092903,929.0304,92903.04,0.000024],     #area //7\n",
        "]"
      ],
      "metadata": {
        "id": "JkXkYxJPHmDk"
      },
      "execution_count": null,
      "outputs": []
    },
    {
      "cell_type": "code",
      "source": [
        "nombresC = [\n",
        "    ['Dolar', \"ColonSv\", \"Quetzal\", \"Lempira\", \"Cordoba\", \"Colon(CR)\", \"Euro\",                  #monedas//0\n",
        "     \"Peso(Mx)\", \"Yen(Jp)\", \"Real(Br)\"],                                                        \n",
        "    [\"Metro\", \"Centimetro\", \"Pulgada\", \"Pie\", \"Kilonetro\", \"Yarda\", \"Milla\",                     #longitud//1\n",
        "     \"Vara\", \"Hectarea\", \"Milimetro\"],\n",
        "    [\"Libra\", \"Onza\", \"Kilogramo\", \"Hectogramo\", \"Gramo\", \"Decagramo\", \"Decigramo\",              #masa//2\n",
        "     \"Centigramo\", \"Miligramo\", \"Tonelada Corta(USA)\"],\n",
        "    [\"Megabytes\", \"Diskettes\", \"Mebibits\", \"bits\", \"Kibibytes\", \"Mebibytes\",                     #almacenamiento//3\n",
        "     \"Gigabits\", \"Gigabytes\", \"Terabits\", \"Terabytes\"],\n",
        "    [\"Hora\", \"Minutos\", \"Segundos\", \"Milisegundos\", \"Microsegundos\", \"Días\",                     #tiempo//4\n",
        "     \"Semana\", \"Años\", \"Decada\", \"Siglo\"],\n",
        "    [\"Celsius\", \"Fahrenheit\", \"Kelvin\"],                                                         #temperatura//5\n",
        "    [\"Cucharaditas\", \"Cuchardas\", \"Onzas Líquidas\", \"Tazas\", \"Cuartos de Galón\",                 #volumen//6\n",
        "     \"Galones\", \"Litros\", \"Mililitros\", \"Centímetros Cúbicos\", \"Metros Cúbicos\"],                #area//7\n",
        "    [\"Pies Cuadrados\", \"Yardas Cuadradas\", \"Milla Cuadradas\", \"Pulgadas Cuadradas\",\n",
        "     \"Kilómetros Cuadradas\", \"Hectáreas\", \"Metros Cuadrados\", \"Centímetros Cuadrados\",\n",
        "     \"Milímetros Cuadrados\", \"Acres\"]\n",
        "]"
      ],
      "metadata": {
        "id": "ixlcKIwbHhcA"
      },
      "execution_count": null,
      "outputs": []
    },
    {
      "cell_type": "code",
      "source": [
        "#@title\n",
        "def convertir(de, a, cantidad, u):\n",
        "  return unidadesC[u][a] / unidadesC[u][de] * cantidad"
      ],
      "metadata": {
        "id": "hADT5kwiEG7t"
      },
      "execution_count": null,
      "outputs": []
    },
    {
      "cell_type": "code",
      "source": [
        "def datos (con):\n",
        "  if con != 5:\n",
        "    de = int(input(\"de: \")) \n",
        "    a = int(input(\"a: \"))\n",
        "    cantidad = float(input(\"Cantidad: \"))\n",
        "    return print(cantidad, nombresC[con][de],'es: ', convertir(de,a,cantidad,con), nombresC[con][a]) \n",
        "\n",
        "  else:\n",
        "    de = int(input(\"de: \"))\n",
        "    a = int(input(\"a: \"))\n",
        "    cantidad = float(input(\"Cantidad: \"))\n",
        "    return print(cantidad, nombresC[con][de], 'es: ',temperatura(de,a,cantidad,a),nombresC[con][a])\n"
      ],
      "metadata": {
        "id": "_XKfnsvOH1dr"
      },
      "execution_count": null,
      "outputs": []
    },
    {
      "cell_type": "code",
      "source": [
        "def menu(i, con):\n",
        "  if con != 5:    \n",
        "    while(i<=9):\n",
        "      print(i, \"- \",nombresC[con][i],\"\\n\")\n",
        "      i+=1\n",
        "  else:\n",
        "    while(i<=2):\n",
        "      print(i,\"- \",nombresC[con][i],\"\\n\")\n",
        "      i+=1"
      ],
      "metadata": {
        "id": "v2TSQfr9IZIo"
      },
      "execution_count": null,
      "outputs": []
    },
    {
      "cell_type": "code",
      "source": [
        "from contextlib import nullcontext\n",
        "def datosT ():\n",
        "  de = int(input(\"de: \"))\n",
        "  a = int(input(\"a: \"))\n",
        "  cantidad = float(input(\"Cantidad: \"))\n",
        "  return print(cantidad, nombresC[con][de], 'es: ',temperatura(de,a,cantidad,a),nombresC[con][a])"
      ],
      "metadata": {
        "id": "NWDr78FuI62G"
      },
      "execution_count": null,
      "outputs": []
    },
    {
      "cell_type": "code",
      "source": [
        "def temperatura (de, a, cantidad, temp):\n",
        "\n",
        "  if de == 0 and a == 1:\n",
        "    temp = (cantidad * 9 / 5) + 32\n",
        "\n",
        "  elif de == 0 and a == 2:\n",
        "    temp = (cantidad + 273.15)\n",
        "\n",
        "  elif de == 1 and a == 0:\n",
        "    temp = (cantidad - 32) * 5 / 9\n",
        "  \n",
        "  elif de == 1 and a == 2:\n",
        "    temp = ( cantidad - 32) * 5 / 9 + 273.15\n",
        "\n",
        "  elif de == 2 and a == 0:\n",
        "    temp = ( cantidad - 273.15)\n",
        "\n",
        "  elif de ==2 and a == 1:\n",
        "    temp = ( cantidad - 273.15) * 9 / 5 + 32\n",
        "  \n",
        "  return temp"
      ],
      "metadata": {
        "id": "REtkiS8YJFZ8"
      },
      "execution_count": null,
      "outputs": []
    },
    {
      "cell_type": "code",
      "source": [
        "print(\"Seleccione que tipo de conversor\")\n",
        "print(\"0- Monedas\")\n",
        "print(\"1- Longitud\")\n",
        "print(\"2- Masa\")\n",
        "print(\"3- Almacenamiento\")\n",
        "print(\"4- Tiempo\")\n",
        "print(\"5- Temperatura\")\n",
        "print(\"6- Volumen\")\n",
        "print(\"7- Area\")"
      ],
      "metadata": {
        "colab": {
          "base_uri": "https://localhost:8080/"
        },
        "id": "zUC45INsJK3e",
        "outputId": "4cb340ef-8cdc-4e66-8d82-4af879fb67b5"
      },
      "execution_count": null,
      "outputs": [
        {
          "output_type": "stream",
          "name": "stdout",
          "text": [
            "Seleccione que tipo de conversor\n",
            "0- Monedas\n",
            "1- Longitud\n",
            "2- Masa\n",
            "3- Almacenamiento\n",
            "4- Tiempo\n",
            "5- Temperatura\n",
            "6- Volumen\n",
            "7- Area\n"
          ]
        }
      ]
    },
    {
      "cell_type": "code",
      "source": [
        "i = 0\n",
        "con = int(input(\"Ingrese seleccion: \"))\n",
        "if con==0:\n",
        "  menu(i,con)\n",
        "  datos(con)\n",
        "\n",
        "elif con==1:\n",
        "  menu(i,con)\n",
        "  datos(con)\n",
        "\n",
        "elif con==2:\n",
        "  menu(i,con)  \n",
        "  datos(con)\n",
        "\n",
        "elif con==3:\n",
        "  menu(i,con)\n",
        "  datos(con)\n",
        "\n",
        "elif con==4:\n",
        "  menu(i,con)\n",
        "  datos(con)\n",
        "\n",
        "elif con==5:\n",
        "  menu(i,con)\n",
        "  datos(con)\n",
        "\n",
        "elif con==6:\n",
        "  menu(i,con)\n",
        "  datos(con)\n",
        "\n",
        "elif con==7:\n",
        "  menu(i,con)\n",
        "  datos(con)"
      ],
      "metadata": {
        "colab": {
          "base_uri": "https://localhost:8080/"
        },
        "id": "q_aUxnwTJOS3",
        "outputId": "ab79b699-e158-48fb-e315-2df1485238e0"
      },
      "execution_count": null,
      "outputs": [
        {
          "output_type": "stream",
          "name": "stdout",
          "text": [
            "Ingrese seleccion: 7\n",
            "0 -  Pies Cuadrados \n",
            "\n",
            "1 -  Yardas Cuadradas \n",
            "\n",
            "2 -  Milla Cuadradas \n",
            "\n",
            "3 -  Pulgadas Cuadradas \n",
            "\n",
            "4 -  Kilómetros Cuadradas \n",
            "\n",
            "5 -  Hectáreas \n",
            "\n",
            "6 -  Metros Cuadrados \n",
            "\n",
            "7 -  Centímetros Cuadrados \n",
            "\n",
            "8 -  Milímetros Cuadrados \n",
            "\n",
            "9 -  Acres \n",
            "\n",
            "de: 4\n",
            "a: 7\n",
            "Cantidad: 10\n",
            "10.0 Kilómetros Cuadradas es:  100000000000.0 Centímetros Cuadrados\n"
          ]
        }
      ]
    },
    {
      "cell_type": "code",
      "source": [
        "def precios (m3, precio):\n",
        "  exc1, exc2 = 18, 28\n",
        "  val1, val2 = 0.45, 0.65\n",
        "  cumi = 6.00\n",
        "  valexc1 = 4.50\n",
        "\n",
        "  if m3 >= 1 and m3 <= 18:\n",
        "    precio = cumi\n",
        "  \n",
        "  elif m3 >=19 and m3 <= 28:\n",
        "    precio = ((m3 - exc1) * val1) + cumi\n",
        "\n",
        "  elif m3 >=29:\n",
        "    precio = ((m3 - exc2) * val2) + valexc1 + cumi\n",
        "\n",
        "  return precio"
      ],
      "metadata": {
        "id": "1-piEbXtJSRB"
      },
      "execution_count": null,
      "outputs": []
    },
    {
      "cell_type": "code",
      "source": [
        "m3 = float(input(\"Ingrese la cantidad de metros cubicos: \"))\n",
        "\n",
        "print(\"su total a pagar es: \", precios(m3,m3), \" dolares.\")"
      ],
      "metadata": {
        "colab": {
          "base_uri": "https://localhost:8080/"
        },
        "id": "fRqYyUM_JWR3",
        "outputId": "960013c2-825f-4ed9-9bdb-ba1ec61f8e5f"
      },
      "execution_count": null,
      "outputs": [
        {
          "output_type": "stream",
          "name": "stdout",
          "text": [
            "Ingrese la cantidad de metros cubicos: 5\n",
            "su total a pagar es:  6.0  dolares.\n"
          ]
        }
      ]
    },
    {
      "cell_type": "code",
      "source": [
        "#Conversor de tiempo\n",
        "\n"
      ],
      "metadata": {
        "id": "YUf4IIwrDDqt"
      },
      "execution_count": null,
      "outputs": []
    }
  ]
}