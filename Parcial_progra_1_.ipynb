{
  "nbformat": 4,
  "nbformat_minor": 0,
  "metadata": {
    "colab": {
      "provenance": [],
      "include_colab_link": true
    },
    "kernelspec": {
      "name": "python3",
      "display_name": "Python 3"
    },
    "language_info": {
      "name": "python"
    }
  },
  "cells": [
    {
      "cell_type": "markdown",
      "metadata": {
        "id": "view-in-github",
        "colab_type": "text"
      },
      "source": [
        "<a href=\"https://colab.research.google.com/github/Scarlethernan28/Hernandez/blob/master/Parcial_progra_1_.ipynb\" target=\"_parent\"><img src=\"https://colab.research.google.com/assets/colab-badge.svg\" alt=\"Open In Colab\"/></a>"
      ]
    },
    {
      "cell_type": "code",
      "source": [
        "#Ejercicio 1 parcial\n",
        "salario = float (input(\"Ingresa tu sueldo: \"))\n",
        "tpoTrabajo = int(input(\"Escribe el tiempo que llevas en la empresa (En años) **nota** Escribe 0 si llevas menos de 1 año:\"))\n",
        "AFP = round(salario*0.0725,2)\n",
        "AFP2 = round(salario*0.0775,2)\n",
        "ISSS = salario*0.03\n",
        "ISSS2 = salario*0.075\n",
        "tramo = salario-AFP-ISSS\n",
        "neto = salario-AFP-30.0\n",
        "quince = round(tramo/2,2)\n",
        "vacaciones = quince*0.3\n",
        "totalv = round(vacaciones+quince, 2)\n",
        "\n",
        "print(\"***Deducciones***\")\n",
        "if (tramo <= 472):\n",
        "  \n",
        "\n",
        "  print(\"ISSS:.................\",ISSS , \"\\nISSS Patronal:....... \", ISSS2, \"\\nAFP:..................\", AFP , \"\\nAFP Patronal:.........\", AFP2,\"\\nISR:.................. 0\", \"\\nSalario neto mensual: \", tramo , \"\\n\\n***Sueldo por vacaciones***\",\n",
        "        \"\\nSalario quincenal:   \", quince, \"\\nTotal por vacaciones \",totalv )\n",
        "  \n",
        "elif(tramo>=472.01) and (tramo<=895.24):\n",
        "  \n",
        "  renta = round((tramo-472.01)*0.10+17.67,2)\n",
        "  Sneto = round(tramo - renta,2)\n",
        "  print(\"ISSS:.................\",ISSS , \"\\nISSS Patronal:........\", ISSS2, \"\\nAFP:..................\", AFP , \"\\nAFP Patronal:.........\", AFP2,\"\\nISR:..................\", renta,  \"\\nSalario neto mensual: \", Sneto , \"\\n\\n***Sueldo por vacaciones***\",\n",
        "        \"\\nSalario quincenal:    \", quince, \"\\nTotal por vacaciones: \",totalv )\n",
        "\n",
        "elif(tramo>=895.25) and (tramo<=2038.10):\n",
        " if(tramo>=1000):\n",
        "\n",
        "   renta = round((neto-895.25)*0.20+60,2)\n",
        "   Sneto = round(neto - renta,2)\n",
        "   print(\"ISSS:................. 30.0\", \"\\nISSS Patronal:........ 75.0\", \"\\nAFP:..................\", AFP , \"\\nAFP Patronal:.........\", AFP2,\"\\nISR:..................\", renta,  \"\\nSalario neto mensual: \", Sneto , \"\\n\\n***Sueldo por vacaciones***\",\n",
        "        \"\\nSalario quincenal:    \", quince, \"\\nTotal por vacaciones: \",totalv )\n",
        "\n",
        " else:\n",
        "   renta = (tramo-895.25)*0.20+60\n",
        "   Sneto = round(neto - renta,2)\n",
        "   print(\"ISSS:..........\",ISSS , \"\\nISSS Patronal:...........\", ISSS2, \"\\nAFP:...........\", AFP , \"\\nAFP Patronal:  \", AFP2,\"\\nISR:...........  \", renta,  \"\\nSalario neto mensual: \", Sneto , \"\\n\\n***Sueldo por vacaciones***\",\n",
        "        \"\\nSalario quincenal:    \", quince, \"\\nTotal por vacaciones: \",totalv )\n",
        "\n",
        "else:\n",
        " renta = round((neto-2038.11)*0.30+288.57,2)\n",
        " Sneto = round(neto - renta,2)\n",
        " print(\"ISSS:................. 30.0\", \"\\nISSS Patronal:........ 75.0\", \"\\nAFP:..................\", AFP , \"\\nAFP Patronal:.........\", AFP2,\"\\nISR:..................\", renta,  \"\\nSalario neto mensual: \", Sneto , \"\\n\\n***Sueldo por vacaciones***\",\n",
        "        \"\\nSalario quincenal:    \", quince, \"\\nTotal por vacaciones: \",totalv )\n",
        " \n",
        "\n",
        "\n",
        "\n",
        " print(\"\\n***aguinaldos***\")\n",
        "if (tpoTrabajo<1):\n",
        "  print(\"Tienes menos de un año laborado\")\n",
        "  dias = int(input(\"Ingresa cuantos dias llevas trabajados\"))\n",
        "  aguinaldo = round((salario/30)*(15)/365*dias,2)\n",
        "  print(\"Dias trabajados: \", dias , \"\\nAguinaldo: \",aguinaldo)\n",
        "\n",
        "\n",
        "elif(tpoTrabajo>=1) and (tpoTrabajo<3):\n",
        "  print(\"Tienes\", tpoTrabajo , \"Años trabajando\")\n",
        "  aguinaldo = round((salario/30)*15, 2)\n",
        "  print(\"Aguinaldo: \",aguinaldo) \n",
        "\n",
        "\n",
        "elif(tpoTrabajo>=3) and (tpoTrabajo<10):\n",
        "  print(\"Tienes\", tpoTrabajo , \"Años trabajando\")\n",
        "  aguinaldo = round((salario/30)*19, 2)\n",
        "  print(\"Aguinaldo: \",aguinaldo) \n",
        "\n",
        "else:\n",
        "  print(\"Tienes\", tpoTrabajo , \"Años trabajando **Felicidades**\")\n",
        "  aguinaldo = round((salario/30)*21, 2)\n",
        "  print(\"Aguinaldo: \",aguinaldo) "
      ],
      "metadata": {
        "id": "v6B5IDAZwOx9",
        "outputId": "77e987b8-5253-4de4-9c18-43c3cce29c0a",
        "colab": {
          "base_uri": "https://localhost:8080/"
        }
      },
      "execution_count": null,
      "outputs": [
        {
          "output_type": "stream",
          "name": "stdout",
          "text": [
            "Ingresa tu sueldo: 20\n",
            "Escribe el tiempo que llevas en la empresa (En años) **nota** Escribe 0 si llevas menos de 1 año:2\n",
            "***Deducciones***\n",
            "ISSS:................. 0.6 \n",
            "ISSS Patronal:.......  1.5 \n",
            "AFP:.................. 1.45 \n",
            "AFP Patronal:......... 1.55 \n",
            "ISR:.................. 0 \n",
            "Salario neto mensual:  17.95 \n",
            "\n",
            "***Sueldo por vacaciones*** \n",
            "Salario quincenal:    8.97 \n",
            "Total por vacaciones  11.66\n",
            "Tienes 2 Años trabajando\n",
            "Aguinaldo:  10.0\n"
          ]
        }
      ]
    },
    {
      "cell_type": "code",
      "source": [
        "\n",
        "#Ejercicio 2 Desarrolle un algoritmo en Python que calcule el IMPUESTO A LAS ACTIVIDADES ECONOMICAS de acuerdo con la siguiente tabla.El monto de la actividad economica debe ser introducido por el usuario.\n",
        "def calcular():\n",
        "    monto = float(input(\"Ingrese el monto de su empresa: \"))\n",
        "    impuesto = monto + 0.01/1000 * 0 +1.5  \n",
        "    print(\"EL IMPUESTO del monto de su Empresa es: $\",monto)\n",
        "    Mtotal = monto - impuesto\n",
        "    print(\"El monto total es de : $\", Mtotal)\n",
        "    \n",
        "def calcular():\n",
        "    monto = float(input(\"Ingrese el monto de su empresa: \"))\n",
        "    impuesto = monto + 500.01/1000 * 3 +1.5\n",
        "    print(\"El Impuesto del monto de su Empresa es: $\",monto)\n",
        "    Mtotal = monto - impuesto\n",
        "    print(\"El monto total es de : $\", Mtotal)\n",
        "\n",
        "def calcular():\n",
        "    monto = float(input(\"Ingrese el monto de su empresa: \"))\n",
        "    impuesto = monto + 1000.01/100 * 3 +3\n",
        "    print(\"El impuesto del monto de su empresa es: $\",monto)\n",
        "    Mtotal = monto - impuesto\n",
        "    print(\"El monto total es de : $\", Mtotal)\n",
        "\n",
        "def calcular():\n",
        "    monto = float(input(\"Ingrese el monto de su empresa: \"))\n",
        "    impuesto = monto + 2000.01/100 * 3 +6\n",
        "    print(\"El Impuesto del monto de su empresa es: $\",monto)\n",
        "    Mtotal = monto - impuesto\n",
        "    print(\"El monto total es de : $\", Mtotal)\n",
        "\n",
        "def calcular():\n",
        "    monto = float(input(\"Ingrese el monto de su empresa: \"))\n",
        "    impuesto = monto + 3000.01/100 * 2 +9\n",
        "    print(\"El impuesto del monto de su empresa es: $\",monto)\n",
        "    Mtotal = monto - impuesto\n",
        "    print(\"El monto total es de : $\",Mtotal)\n",
        "\n",
        "def calcular():\n",
        "    monto = float(input(\"Ingrese el monto de su empresa: \"))\n",
        "    impuesto = monto + 8000.01/100 * 2 +15\n",
        "    print(\"El impuesto del monto de su empresa es: $\",monto)\n",
        "    Mtotal = monto - impuesto\n",
        "    print(\"El monto total es de : $\",Mtotal)\n",
        "\n",
        "def calcular():\n",
        "    monto = float(input(\"Ingrese el monto de su empresa: \"))\n",
        "    impuesto = monto + 18000.01/100 * 2 +39\n",
        "    print(\"El impuesto del monto de su empresa es: $\",monto)\n",
        "    Mtotal = monto - impuesto\n",
        "    print(\"El impuesto total es de : $\",Mtotal)\n",
        "\n",
        "def calcular():\n",
        "    monto = float (input(\"Ingrese el monto de su empresa: \"))\n",
        "    impuesto = monto + 30000.01/100 * 1 +63\n",
        "    print(\"El impuesto del monto de su empresa es : $\",monto)\n",
        "    Mtotal = monto - impuesto \n",
        "    print(\"El impuesto total es de : $\",Mtotal)   \n",
        "\n",
        "def calcular():\n",
        "    monto = float(input(\"Ingrese el monto de su empresa: \"))\n",
        "    impuesto = monto + 60000.01/100 * 0.8 +93\n",
        "    print(\"El impuesto del monto de su empresa es: $\",monto)\n",
        "    Mtotal = monto - impuesto\n",
        "    print(\"El impuesto total es de : $\",Mtotal)\n",
        "\n",
        "def calcular():\n",
        "    monto = float(input(\"Ingrese el monto de su empresa: \"))\n",
        "    impuesto = monto + 100000.01/100 * 0.7 +125\n",
        "    print(\"El impuesto del monto de su empresa es : $\",monto)\n",
        "    Mtotal = monto -  impuesto\n",
        "    print(\"El impuesto total es de : $\",monto)\n",
        "\n",
        "def calcular():\n",
        "    monto = float(input(\"Ingrese el monto de su empresa: \"))\n",
        "    impuesto = monto + 200000.01/100 * 0.6 +195\n",
        "    print(\"El impuesto del monto de su empresa es: $\",monto)\n",
        "    Mtotal = monto -impuesto\n",
        "    print(\"El impuesto total es de : $\",Mtotal)\n",
        "\n",
        "def calcular():\n",
        "    monto = float(input(\"Ingrese el monto de su empresa: \"))\n",
        "    impuesto = monto + 300000.01/100 * 0.45 +255\n",
        "    print(\"El impuesto del monto de su empresa es: $\",monto)\n",
        "    Mtotal = monto -impuesto\n",
        "    print(\"El impuesto total es de : $\",Mtotal)\n",
        "\n",
        "def calcular():\n",
        "    monto = float(input(\"Ingrese el monto de su empresa: \"))\n",
        "    impuesto = monto + 400000.01/100 * 0.4 +300\n",
        "    print(\"El impuesto del monto de su empresa es: $\",monto)\n",
        "    Mtotal = monto -impuesto\n",
        "    print(\"El impuesto total es de : $\",Mtotal)\n",
        "\n",
        "def calcular():\n",
        "    monto = float(input(\"Ingrese el monto de su empresa: \"))\n",
        "    impuesto = monto + 500000.01/100 * 0.30 +340\n",
        "    print(\"El impuesto del monto de su empresa es: $\",monto)\n",
        "    Mtotal = monto -impuesto\n",
        "    print(\"El impuesto total es de : $\",Mtotal)\n",
        "\n",
        "def calcular():\n",
        "    monto = float(input(\"Ingrese el monto de su empresa: \"))\n",
        "    impuesto = monto + 1000000.01/100 * 0.18 +490\n",
        "    print(\"El impuesto del monto de su empresa es: $\",monto)\n",
        "    Mtotal = monto -impuesto\n",
        "    print(\"El impuesto total es de : $\",Mtotal)\n",
        "\n",
        "    calcular()"
      ],
      "metadata": {
        "id": "1C2LVx3YakZR"
      },
      "execution_count": 29,
      "outputs": []
    },
    {
      "cell_type": "code",
      "source": [
        "# 3-Desarrole el conversor de area(Superficie) haciendo uso de los diccionarios y las funciones del usuario en python que contenga las siguientes opciones:\n",
        "\n",
        "# a.pie cuadrado\n",
        "# b.vara cuadrada\n",
        "# c.yarda cuadrada\n",
        "# d.metro cuadrado\n",
        "# e.tareas\n",
        "# f.manzanas\n",
        "# g.hectareas"
      ],
      "metadata": {
        "id": "gu40YKg0IaI8"
      },
      "execution_count": null,
      "outputs": []
    },
    {
      "cell_type": "code",
      "execution_count": null,
      "metadata": {
        "id": "ReSLasDno6tq"
      },
      "outputs": [],
      "source": [
        "medidas = {'Numero 0' : 0.94, 'Numero 1' : 0.70, 'Numero 2' : 0.84, 'Numero 3' : 1e-6, 'Numero 4' : 628.86, 'Numero 5': 100, 'Numero 6' : 100000}\n",
        "\n",
        "valores = [0.09,0.70,0.84,1e-6,628.86,100,10000]"
      ]
    },
    {
      "cell_type": "code",
      "source": [
        "def convertir(de, a, cantidad):\n",
        "  return valores[a] / valores[de] * cantidad "
      ],
      "metadata": {
        "id": "n_cVlyx20IkY"
      },
      "execution_count": null,
      "outputs": []
    },
    {
      "cell_type": "code",
      "source": [
        "print(\"*** MENU - CONVERSOR***\")\n",
        "print(\"0.pie cuadrado\")\n",
        "print(\"1. vara cuadrada\")\n",
        "print(\"2. yarda cuadrada\")\n",
        "print(\"3. metro cuadrado\")\n",
        "print(\"4.tareas\")\n",
        "print(\"5. manzanas\")\n",
        "print(\"6. hectareas\")"
      ],
      "metadata": {
        "colab": {
          "base_uri": "https://localhost:8080/"
        },
        "id": "BFL7TtO90fn_",
        "outputId": "6818b943-d4b7-44af-b836-d0be280d8d3b"
      },
      "execution_count": null,
      "outputs": [
        {
          "output_type": "stream",
          "name": "stdout",
          "text": [
            "*** MENU - CONVERSOR***\n",
            "0.pie cuadrado\n",
            "1. vara cuadrada\n",
            "2. yarda cuadrada\n",
            "3. metro cuadrado\n",
            "4.tareas\n",
            "5. manzanas\n",
            "6. hectareas\n"
          ]
        }
      ]
    },
    {
      "cell_type": "code",
      "source": [
        "de = int(input(\"DE:\"))\n",
        "a = int(input(\"A: \"))\n",
        "cantidad = int(input(\"cantidad: \"))\n",
        "print(\"en pie cuadrado: \", medidas[ 'Numero 0'] * cantidad)\n",
        "\n",
        "print(\"en vara cuadrada: \", medidas['Numero 1'] * cantidad)\n",
        "\n",
        "print(\"en yarda cuadrada: \", medidas['Numero 2'] * cantidad)\n",
        "print(\"en metro cuadrado: \", medidas['Numero 3'] * cantidad)\n",
        "print(\"en tareas: \", medidas['Numero 4'] * cantidad)\n",
        "print(\"en manzanas: \", medidas['Numero 5'] * cantidad)\n",
        "print(\"en hectareas: \", medidas['Numero 6'] * cantidad)"
      ],
      "metadata": {
        "colab": {
          "base_uri": "https://localhost:8080/"
        },
        "id": "xx95dDgh1WuI",
        "outputId": "1a55b206-12b0-4637-d351-b23e9eec89e7"
      },
      "execution_count": null,
      "outputs": [
        {
          "output_type": "stream",
          "name": "stdout",
          "text": [
            "DE:0\n",
            "A: 3\n",
            "cantidad: 9\n",
            "en pie cuadrado:  8.459999999999999\n",
            "en vara cuadrada:  6.3\n",
            "en yarda cuadrada:  7.56\n",
            "en metro cuadrado:  9e-06\n",
            "en tareas:  5659.74\n",
            "en manzanas:  900\n",
            "en hectareas:  900000\n"
          ]
        }
      ]
    }
  ]
}