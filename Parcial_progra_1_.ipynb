{
  "nbformat": 4,
  "nbformat_minor": 0,
  "metadata": {
    "colab": {
      "provenance": [],
      "authorship_tag": "ABX9TyOPLJvzSqJeBkTV3w0l4hQb",
      "include_colab_link": true
    },
    "kernelspec": {
      "name": "python3",
      "display_name": "Python 3"
    },
    "language_info": {
      "name": "python"
    }
  },
  "cells": [
    {
      "cell_type": "markdown",
      "metadata": {
        "id": "view-in-github",
        "colab_type": "text"
      },
      "source": [
        "<a href=\"https://colab.research.google.com/github/Scarlethernan28/Hernandez/blob/master/Parcial_progra_1_.ipynb\" target=\"_parent\"><img src=\"https://colab.research.google.com/assets/colab-badge.svg\" alt=\"Open In Colab\"/></a>"
      ]
    },
    {
      "cell_type": "code",
      "execution_count": 4,
      "metadata": {
        "id": "ReSLasDno6tq"
      },
      "outputs": [],
      "source": [
        "medidas = {'Numero 1' : 0.94, 'Numero 2' : 0.70, 'Numero 3' : 0.84, 'Numero 4' : 1e-6, 'Numero 5' : 628.86, 'Numero 6': 100, 'Numero 7' : 100000}\n",
        "\n",
        "valores = [0.09,0.70,0.84,1e-6,628.86,100,10000]"
      ]
    },
    {
      "cell_type": "code",
      "source": [
        "def convertir(de, a, cantidad):\n",
        "  return valores[a] / valores[de] * cantidad "
      ],
      "metadata": {
        "id": "n_cVlyx20IkY"
      },
      "execution_count": 5,
      "outputs": []
    },
    {
      "cell_type": "code",
      "source": [
        "print(\"*** MENU - CONVERSOR***\")\n",
        "print(\"1.pie cuadrado\")\n",
        "print(\"2. vara cuadrada\")\n",
        "print(\"3. yarda cuadrada\")\n",
        "print(\"4. metro cuadrado\")\n",
        "print(\"5.tareas\")\n",
        "print(\"6. manzanas\")\n",
        "print(\"7. hectareas\")"
      ],
      "metadata": {
        "colab": {
          "base_uri": "https://localhost:8080/"
        },
        "id": "BFL7TtO90fn_",
        "outputId": "883a2407-4664-43cf-f87a-ab79c15418b0"
      },
      "execution_count": 6,
      "outputs": [
        {
          "output_type": "stream",
          "name": "stdout",
          "text": [
            "*** MENU - CONVERSOR***\n",
            "1.pie cuadrado\n",
            "2. vara cuadrada\n",
            "3. yarda cuadrada\n",
            "4. metro cuadrado\n",
            "5.tareas\n",
            "6. manzanas\n",
            "7. hectareas\n"
          ]
        }
      ]
    },
    {
      "cell_type": "code",
      "source": [
        "de = int(input(\"DE:\"))\n",
        "a = int(input(\"A: \"))\n",
        "cantidad = int(input(\"cantidad: \"))\n",
        "print(\"en pie cuadrado: \", medidas[ 'Numero 1'] * cantidad)\n",
        "\n",
        "print(\"en vara cuadrada: \", medidas['Numero 2'] * cantidad)\n",
        "\n",
        "print(\"en yarda cuadrada: \", medidas['Numero 3'] * cantidad)\n",
        "print(\"en metro cuadrado: \", medidas['Numero 4'] * cantidad)\n",
        "print(\"en tareas: \", medidas['Numero 5'] * cantidad)\n",
        "print(\"en manzanas: \", medidas['Numero 6'] * cantidad)\n",
        "print(\"en hectareas: \", medidas['Numero 7'] * cantidad)"
      ],
      "metadata": {
        "colab": {
          "base_uri": "https://localhost:8080/"
        },
        "id": "xx95dDgh1WuI",
        "outputId": "3449c12b-11e2-4e06-f4ff-db46e81f3c84"
      },
      "execution_count": 9,
      "outputs": [
        {
          "output_type": "stream",
          "name": "stdout",
          "text": [
            "DE:1\n",
            "A: 2\n",
            "cantidad: 5\n",
            "en pie cuadrado:  4.699999999999999\n",
            "en vara cuadrada:  3.5\n",
            "en yarda cuadrada:  4.2\n",
            "en metro cuadrado:  4.9999999999999996e-06\n",
            "en tareas:  3144.3\n",
            "en manzanas:  500\n",
            "en hectareas:  500000\n"
          ]
        }
      ]
    }
  ]
}