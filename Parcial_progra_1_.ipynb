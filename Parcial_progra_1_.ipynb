{
  "nbformat": 4,
  "nbformat_minor": 0,
  "metadata": {
    "colab": {
      "provenance": [],
      "include_colab_link": true
    },
    "kernelspec": {
      "name": "python3",
      "display_name": "Python 3"
    },
    "language_info": {
      "name": "python"
    }
  },
  "cells": [
    {
      "cell_type": "markdown",
      "metadata": {
        "id": "view-in-github",
        "colab_type": "text"
      },
      "source": [
        "<a href=\"https://colab.research.google.com/github/Scarlethernan28/Hernandez/blob/master/Parcial_progra_1_.ipynb\" target=\"_parent\"><img src=\"https://colab.research.google.com/assets/colab-badge.svg\" alt=\"Open In Colab\"/></a>"
      ]
    },
    {
      "cell_type": "code",
      "source": [
        "# 2-Desarrolle un algoritmo en Python que calcule el IMPUESTO A LAS ACTIVIDADES ECONOMICAS de acuerdo con la siguiente tabla. El monto de la actividad económica debe ser introducido por el usuario."
      ],
      "metadata": {
        "id": "zzyBlh6AU4So"
      },
      "execution_count": 5,
      "outputs": []
    },
    {
      "cell_type": "code",
      "source": [],
      "metadata": {
        "id": "1C2LVx3YakZR"
      },
      "execution_count": null,
      "outputs": []
    },
    {
      "cell_type": "code",
      "source": [
        "# 3-Desarrole el conversor de area(Superficie) haciendo uso de los diccionarios y las funciones del usuario en python que contenga las siguientes opciones:\n",
        "\n",
        "# a.pie cuadrado\n",
        "# b.vara cuadrada\n",
        "# c.yarda cuadrada\n",
        "# d.metro cuadrado\n",
        "# e.tareas\n",
        "# f.manzanas\n",
        "# g.hectareas"
      ],
      "metadata": {
        "id": "gu40YKg0IaI8"
      },
      "execution_count": 4,
      "outputs": []
    },
    {
      "cell_type": "code",
      "execution_count": 6,
      "metadata": {
        "id": "ReSLasDno6tq"
      },
      "outputs": [],
      "source": [
        "medidas = {'Numero 0' : 0.94, 'Numero 1' : 0.70, 'Numero 2' : 0.84, 'Numero 3' : 1e-6, 'Numero 4' : 628.86, 'Numero 5': 100, 'Numero 6' : 100000}\n",
        "\n",
        "valores = [0.09,0.70,0.84,1e-6,628.86,100,10000]"
      ]
    },
    {
      "cell_type": "code",
      "source": [
        "def convertir(de, a, cantidad):\n",
        "  return valores[a] / valores[de] * cantidad "
      ],
      "metadata": {
        "id": "n_cVlyx20IkY"
      },
      "execution_count": null,
      "outputs": []
    },
    {
      "cell_type": "code",
      "source": [
        "print(\"*** MENU - CONVERSOR***\")\n",
        "print(\"0.pie cuadrado\")\n",
        "print(\"1. vara cuadrada\")\n",
        "print(\"2. yarda cuadrada\")\n",
        "print(\"3. metro cuadrado\")\n",
        "print(\"4.tareas\")\n",
        "print(\"5. manzanas\")\n",
        "print(\"6. hectareas\")"
      ],
      "metadata": {
        "colab": {
          "base_uri": "https://localhost:8080/"
        },
        "id": "BFL7TtO90fn_",
        "outputId": "6818b943-d4b7-44af-b836-d0be280d8d3b"
      },
      "execution_count": 8,
      "outputs": [
        {
          "output_type": "stream",
          "name": "stdout",
          "text": [
            "*** MENU - CONVERSOR***\n",
            "0.pie cuadrado\n",
            "1. vara cuadrada\n",
            "2. yarda cuadrada\n",
            "3. metro cuadrado\n",
            "4.tareas\n",
            "5. manzanas\n",
            "6. hectareas\n"
          ]
        }
      ]
    },
    {
      "cell_type": "code",
      "source": [
        "de = int(input(\"DE:\"))\n",
        "a = int(input(\"A: \"))\n",
        "cantidad = int(input(\"cantidad: \"))\n",
        "print(\"en pie cuadrado: \", medidas[ 'Numero 0'] * cantidad)\n",
        "\n",
        "print(\"en vara cuadrada: \", medidas['Numero 1'] * cantidad)\n",
        "\n",
        "print(\"en yarda cuadrada: \", medidas['Numero 2'] * cantidad)\n",
        "print(\"en metro cuadrado: \", medidas['Numero 3'] * cantidad)\n",
        "print(\"en tareas: \", medidas['Numero 4'] * cantidad)\n",
        "print(\"en manzanas: \", medidas['Numero 5'] * cantidad)\n",
        "print(\"en hectareas: \", medidas['Numero 6'] * cantidad)"
      ],
      "metadata": {
        "colab": {
          "base_uri": "https://localhost:8080/"
        },
        "id": "xx95dDgh1WuI",
        "outputId": "1a55b206-12b0-4637-d351-b23e9eec89e7"
      },
      "execution_count": 12,
      "outputs": [
        {
          "output_type": "stream",
          "name": "stdout",
          "text": [
            "DE:0\n",
            "A: 3\n",
            "cantidad: 9\n",
            "en pie cuadrado:  8.459999999999999\n",
            "en vara cuadrada:  6.3\n",
            "en yarda cuadrada:  7.56\n",
            "en metro cuadrado:  9e-06\n",
            "en tareas:  5659.74\n",
            "en manzanas:  900\n",
            "en hectareas:  900000\n"
          ]
        }
      ]
    }
  ]
}